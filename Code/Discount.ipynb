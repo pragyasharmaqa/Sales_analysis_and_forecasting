{
 "cells": [
  {
   "cell_type": "code",
   "execution_count": 1,
   "id": "daa2f73a-5145-4e5e-96e3-c2103b29c83a",
   "metadata": {},
   "outputs": [],
   "source": [
    "import pandas as pd\n",
    "import numpy as np\n",
    "import matplotlib\n",
    "%matplotlib inline\n",
    "import matplotlib.pyplot as plt\n",
    "import seaborn as sns\n",
    "\n",
    "# we will limit the number of decimal places we display\n",
    "pd.options.display.float_format = '{:,.2f}'.format "
   ]
  },
  {
   "cell_type": "code",
   "execution_count": 3,
   "id": "4a15d7c3-60bd-4a9f-a71f-6fbaf6fe6f34",
   "metadata": {},
   "outputs": [],
   "source": [
    "datafile_name= \"../Data/Data/cleaned_data_csv.csv\"\n",
    "abt = pd.read_csv(datafile_name, index_col=0)"
   ]
  },
  {
   "cell_type": "code",
   "execution_count": 5,
   "id": "934d9707-bff3-4b77-9153-82660d603d56",
   "metadata": {},
   "outputs": [
    {
     "name": "stdout",
     "output_type": "stream",
     "text": [
      "DataFrame with Discount == 0:\n",
      "            Country         City    Customer Name        Order ID  \\\n",
      "0     United States    Henderson      Claire Gute  CA-2013-152156   \n",
      "1     United States    Henderson      Claire Gute  CA-2013-152156   \n",
      "2     United States  Los Angeles  Darrin Van Huff  CA-2013-138688   \n",
      "5     United States  Los Angeles  Brosina Hoffman  CA-2011-115812   \n",
      "6     United States  Los Angeles  Brosina Hoffman  CA-2011-115812   \n",
      "...             ...          ...              ...             ...   \n",
      "9987  United States       Athens     Ruben Ausman  CA-2014-163629   \n",
      "9988  United States       Athens     Ruben Ausman  CA-2014-163629   \n",
      "9990  United States   Costa Mesa      Dave Brooks  CA-2014-121258   \n",
      "9992  United States   Costa Mesa      Dave Brooks  CA-2014-121258   \n",
      "9993  United States  Westminster     Chris Cortes  CA-2014-119914   \n",
      "\n",
      "      Postal Code Region  Row ID       State Top N Customer Label  Order Date  \\\n",
      "0       42,420.00  South       1    Kentucky                Other  2015-09-11   \n",
      "1       42,420.00  South       2    Kentucky                Other  2015-09-11   \n",
      "2       90,036.00   West       3  California                Other  2015-06-13   \n",
      "5       90,032.00   West       6  California                Other  2013-09-06   \n",
      "6       90,032.00   West       7  California                Other  2013-09-06   \n",
      "...           ...    ...     ...         ...                  ...         ...   \n",
      "9987    30,605.00  South    9988     Georgia                Other  2016-11-17   \n",
      "9988    30,605.00  South    9989     Georgia                Other  2016-11-17   \n",
      "9990    92,627.00   West    9991  California                Other  2016-02-27   \n",
      "9992    92,627.00   West    9993  California                Other  2016-02-27   \n",
      "9993    92,683.00   West    9994  California                Other  2016-04-05   \n",
      "\n",
      "      ... Profit Profit Ratio Quantity  Sales  \\\n",
      "0     ...  41.91         0.16     2.00 261.96   \n",
      "1     ... 219.58         0.30     3.00 731.94   \n",
      "2     ...   6.87         0.47     2.00  14.62   \n",
      "5     ...  14.17         0.29     7.00  48.86   \n",
      "6     ...   1.97         0.27     4.00   7.28   \n",
      "...   ...    ...          ...      ...    ...   \n",
      "9987  ...  28.80         0.36     1.00  79.99   \n",
      "9988  ...  55.65         0.27     5.00 206.10   \n",
      "9990  ...  15.63         0.17     2.00  91.96   \n",
      "9992  ...  13.32         0.45     4.00  29.60   \n",
      "9993  ...  72.95         0.30     2.00 243.16   \n",
      "\n",
      "                                           Product Name    Segment  \\\n",
      "0                     Bush Somerset Collection Bookcase   Consumer   \n",
      "1     Hon Deluxe Fabric Upholstered Stacking Chairs,...   Consumer   \n",
      "2     Self-Adhesive Address Labels for Typewriters b...  Corporate   \n",
      "5     Eldon Expressions Wood and Plastic Desk Access...   Consumer   \n",
      "6                                            Newell 322   Consumer   \n",
      "...                                                 ...        ...   \n",
      "9987  Logitech G430 Surround Sound Gaming Headset wi...  Corporate   \n",
      "9988                    Panasonic KX - TS880B Telephone  Corporate   \n",
      "9990  Tenex B1-RE Series Chair Mats for Low Pile Car...   Consumer   \n",
      "9992  It's Hot Message Books with Stickers, 2 3/4\" x 5\"   Consumer   \n",
      "9993  Acco 7-Outlet Masterpiece Power Center, Wihtou...   Consumer   \n",
      "\n",
      "      Sub-Category  month Total Sales Discount Amount  \n",
      "0        Bookcases      9      261.96            0.00  \n",
      "1           Chairs      9      731.94            0.00  \n",
      "2           Labels      6       14.62            0.00  \n",
      "5      Furnishings      9       48.86            0.00  \n",
      "6              Art      9        7.28            0.00  \n",
      "...            ...    ...         ...             ...  \n",
      "9987   Accessories     11       79.99            0.00  \n",
      "9988        Phones     11      206.10            0.00  \n",
      "9990   Furnishings      2       91.96            0.00  \n",
      "9992         Paper      2       29.60            0.00  \n",
      "9993    Appliances      4      243.16            0.00  \n",
      "\n",
      "[4794 rows x 24 columns]\n",
      "\n",
      "DataFrame with Discount != 0:\n",
      "            Country             City     Customer Name        Order ID  \\\n",
      "3     United States  Fort Lauderdale    Sean O'Donnell  US-2012-108966   \n",
      "4     United States  Fort Lauderdale    Sean O'Donnell  US-2012-108966   \n",
      "7     United States      Los Angeles   Brosina Hoffman  CA-2011-115812   \n",
      "8     United States      Los Angeles   Brosina Hoffman  CA-2011-115812   \n",
      "10    United States      Los Angeles   Brosina Hoffman  CA-2011-115812   \n",
      "...             ...              ...               ...             ...   \n",
      "9978  United States      Los Angeles        Anne Pryor  US-2013-103674   \n",
      "9979  United States      Los Angeles        Anne Pryor  US-2013-103674   \n",
      "9981  United States        Fairfield   Ted Butterfield  CA-2014-163566   \n",
      "9989  United States            Miami  Tom Boeckenhauer  CA-2011-110422   \n",
      "9991  United States       Costa Mesa       Dave Brooks  CA-2014-121258   \n",
      "\n",
      "      Postal Code Region  Row ID       State Top N Customer Label  Order Date  \\\n",
      "3       33,311.00  South       4     Florida                Other  2014-11-10   \n",
      "4       33,311.00  South       5     Florida                Other  2014-11-10   \n",
      "7       90,032.00   West       8  California                Other  2013-09-06   \n",
      "8       90,032.00   West       9  California                Other  2013-09-06   \n",
      "10      90,032.00   West      11  California                Other  2013-09-06   \n",
      "...           ...    ...     ...         ...                  ...         ...   \n",
      "9978    90,032.00   West    9979  California                Other  2015-07-12   \n",
      "9979    90,032.00   West    9980  California                Other  2015-07-12   \n",
      "9981    45,014.00   East    9982        Ohio                Other  2016-03-08   \n",
      "9989    33,180.00  South    9990     Florida                Other  2013-01-21   \n",
      "9991    92,627.00   West    9992  California                Other  2016-02-27   \n",
      "\n",
      "      ... Profit Profit Ratio Quantity    Sales  \\\n",
      "3     ...   0.00         0.00     5.00   957.58   \n",
      "4     ...   2.52         0.11     2.00    22.37   \n",
      "7     ...  90.72         0.10     6.00   907.15   \n",
      "8     ...   5.78         0.31     3.00    18.50   \n",
      "10    ...  85.31         0.05     9.00 1,706.18   \n",
      "...   ...    ...          ...      ...      ...   \n",
      "9978  ...   4.68         0.35     4.00    13.38   \n",
      "9979  ... 153.12         0.35    14.00   437.47   \n",
      "9981  ...   5.37         0.33     5.00    16.52   \n",
      "9989  ...   4.10         0.16     3.00    25.25   \n",
      "9991  ...  19.39         0.07     2.00   258.58   \n",
      "\n",
      "                                           Product Name      Segment  \\\n",
      "3         Bretford CR4500 Series Slim Rectangular Table     Consumer   \n",
      "4                        Eldon Fold 'N Roll Cart System     Consumer   \n",
      "7                        Mitel 5320 IP Phone VoIP phone     Consumer   \n",
      "8     DXL Angle-View Binders with Locking Rings by S...     Consumer   \n",
      "10             Chromcraft Rectangular Conference Tables     Consumer   \n",
      "...                                                 ...          ...   \n",
      "9978  Avery Durable Slant Ring Binders With Label Ho...  Home Office   \n",
      "9979                  Ibico Recycled Linen-Style Covers  Home Office   \n",
      "9981                                          Avery 476     Consumer   \n",
      "9989                             Ultra Door Pull Handle     Consumer   \n",
      "9991                              Aastra 57i VoIP phone     Consumer   \n",
      "\n",
      "      Sub-Category  month Total Sales Discount Amount  \n",
      "3           Tables     11    1,741.05          783.47  \n",
      "4          Storage     11       27.96            5.59  \n",
      "7           Phones      9    1,133.94          226.79  \n",
      "8          Binders      9       23.13            4.63  \n",
      "10          Tables      9    2,132.73          426.55  \n",
      "...            ...    ...         ...             ...  \n",
      "9978       Binders      7       16.72            3.34  \n",
      "9979       Binders      7      546.84          109.37  \n",
      "9981        Labels      3       20.65            4.13  \n",
      "9989   Furnishings      1       31.56            6.31  \n",
      "9991        Phones      2      323.22           64.64  \n",
      "\n",
      "[5200 rows x 24 columns]\n"
     ]
    }
   ],
   "source": [
    "abt_discount_zero = abt[abt['Discount'] == 0]\n",
    "\n",
    "# DataFrame where Discount is not equal to 0\n",
    "abt_discount_non_zero = abt[abt['Discount'] != 0]\n",
    "\n",
    "# Print the resulting DataFrames\n",
    "print(\"DataFrame with Discount == 0:\")\n",
    "print(abt_discount_zero)\n",
    "\n",
    "print(\"\\nDataFrame with Discount != 0:\")\n",
    "print(abt_discount_non_zero)"
   ]
  },
  {
   "cell_type": "code",
   "execution_count": 9,
   "id": "c52d58ae-b5d0-4a51-a328-dff9757413f0",
   "metadata": {},
   "outputs": [],
   "source": [
    "outfile_name1 = \"../Data/Data/cleaned_data_discount_csv.csv\"\n",
    "abt_discount_zero.to_csv(outfile_name1)"
   ]
  },
  {
   "cell_type": "code",
   "execution_count": 11,
   "id": "c2c1ea05-a4dc-42fd-8d1f-31a5d3f20b17",
   "metadata": {},
   "outputs": [],
   "source": [
    "outfile_name2 = \"../Data/Data/cleaned_data1_non_csv.csv\"\n",
    "abt_discount_non_zero.to_csv(outfile_name2)"
   ]
  },
  {
   "cell_type": "code",
   "execution_count": 13,
   "id": "8188965f-8471-448e-9ed8-69a1faff163a",
   "metadata": {},
   "outputs": [
    {
     "data": {
      "text/plain": [
       "66.86905744680851"
      ]
     },
     "execution_count": 13,
     "metadata": {},
     "output_type": "execute_result"
    }
   ],
   "source": [
    "abt_discount_zero['Profit'].mean()"
   ]
  },
  {
   "cell_type": "code",
   "execution_count": 15,
   "id": "50194533-0aad-48f7-aa68-3ab540993e91",
   "metadata": {},
   "outputs": [
    {
     "data": {
      "text/plain": [
       "23.453470384615386"
      ]
     },
     "execution_count": 15,
     "metadata": {},
     "output_type": "execute_result"
    }
   ],
   "source": [
    "abt_discount_non_zero['Profit'].mean()"
   ]
  },
  {
   "cell_type": "code",
   "execution_count": 17,
   "id": "c6775d8e-9992-410e-86e6-a76e11dadf7c",
   "metadata": {},
   "outputs": [
    {
     "name": "stdout",
     "output_type": "stream",
     "text": [
      "\n",
      "Pivot Table:\n",
      "                Segment  Mean Profit\n",
      "0      Discount Product        23.45\n",
      "1  Non-Discount Product        66.87\n"
     ]
    }
   ],
   "source": [
    "mean_profit_discount_zero = abt_discount_zero['Profit'].mean()\n",
    "mean_profit_discount_non_zero = abt_discount_non_zero['Profit'].mean()\n",
    "\n",
    "# Create a summary DataFrame\n",
    "summary_df = pd.DataFrame({\n",
    "    'Segment': ['Non-Discount Product', 'Discount Product'],\n",
    "    'Mean Profit': [mean_profit_discount_zero, mean_profit_discount_non_zero]\n",
    "})\n",
    "\n",
    "# Create pivot table\n",
    "pivot_table = pd.pivot_table(summary_df, values='Mean Profit', index='Segment', aggfunc='mean').reset_index()\n",
    "\n",
    "print(\"\\nPivot Table:\")\n",
    "print(pivot_table)"
   ]
  },
  {
   "cell_type": "code",
   "execution_count": 23,
   "id": "759c16a1-20ec-4722-a328-c6df5273530e",
   "metadata": {},
   "outputs": [
    {
     "name": "stderr",
     "output_type": "stream",
     "text": [
      "/var/folders/cl/m7kxvkhn1x3drmm_nb6j89280000gn/T/ipykernel_58744/331450413.py:2: FutureWarning: \n",
      "\n",
      "Passing `palette` without assigning `hue` is deprecated and will be removed in v0.14.0. Assign the `x` variable to `hue` and set `legend=False` for the same effect.\n",
      "\n",
      "  sns.barplot(x='Segment', y='Mean Profit', data=summary_df, palette='viridis')\n"
     ]
    },
    {
     "data": {
      "image/png": "[encoded data removed]",
      "text/plain": [
       "<Figure size 800x600 with 1 Axes>"
      ]
     },
     "metadata": {},
     "output_type": "display_data"
    }
   ],
   "source": [
    "plt.figure(figsize=(8, 6))\n",
    "sns.barplot(x='Segment', y='Mean Profit', data=summary_df, palette='viridis')\n",
    "plt.title('Mean Profit Comparison: Discount Product vs Non-Discount Product')\n",
    "plt.xlabel('Segment')\n",
    "plt.ylabel('Mean Profit')\n",
    "plt.show()"
   ]
  },
  {
   "cell_type": "code",
   "execution_count": 25,
   "id": "0ee5e145-e8d6-4c42-ba45-be3a18426a24",
   "metadata": {},
   "outputs": [
    {
     "name": "stdout",
     "output_type": "stream",
     "text": [
      "Combined DataFrame:\n",
      "            Country         City     Customer Name        Order ID  \\\n",
      "0     United States    Henderson       Claire Gute  CA-2013-152156   \n",
      "1     United States    Henderson       Claire Gute  CA-2013-152156   \n",
      "2     United States  Los Angeles   Darrin Van Huff  CA-2013-138688   \n",
      "3     United States  Los Angeles   Brosina Hoffman  CA-2011-115812   \n",
      "4     United States  Los Angeles   Brosina Hoffman  CA-2011-115812   \n",
      "...             ...          ...               ...             ...   \n",
      "9989  United States  Los Angeles        Anne Pryor  US-2013-103674   \n",
      "9990  United States  Los Angeles        Anne Pryor  US-2013-103674   \n",
      "9991  United States    Fairfield   Ted Butterfield  CA-2014-163566   \n",
      "9992  United States        Miami  Tom Boeckenhauer  CA-2011-110422   \n",
      "9993  United States   Costa Mesa       Dave Brooks  CA-2014-121258   \n",
      "\n",
      "      Postal Code Region  Row ID       State Top N Customer Label  Order Date  \\\n",
      "0       42,420.00  South       1    Kentucky                Other  2015-09-11   \n",
      "1       42,420.00  South       2    Kentucky                Other  2015-09-11   \n",
      "2       90,036.00   West       3  California                Other  2015-06-13   \n",
      "3       90,032.00   West       6  California                Other  2013-09-06   \n",
      "4       90,032.00   West       7  California                Other  2013-09-06   \n",
      "...           ...    ...     ...         ...                  ...         ...   \n",
      "9989    90,032.00   West    9979  California                Other  2015-07-12   \n",
      "9990    90,032.00   West    9980  California                Other  2015-07-12   \n",
      "9991    45,014.00   East    9982        Ohio                Other  2016-03-08   \n",
      "9992    33,180.00  South    9990     Florida                Other  2013-01-21   \n",
      "9993    92,627.00   West    9992  California                Other  2016-02-27   \n",
      "\n",
      "      ... Profit Profit Ratio Quantity  Sales  \\\n",
      "0     ...  41.91         0.16     2.00 261.96   \n",
      "1     ... 219.58         0.30     3.00 731.94   \n",
      "2     ...   6.87         0.47     2.00  14.62   \n",
      "3     ...  14.17         0.29     7.00  48.86   \n",
      "4     ...   1.97         0.27     4.00   7.28   \n",
      "...   ...    ...          ...      ...    ...   \n",
      "9989  ...   4.68         0.35     4.00  13.38   \n",
      "9990  ... 153.12         0.35    14.00 437.47   \n",
      "9991  ...   5.37         0.33     5.00  16.52   \n",
      "9992  ...   4.10         0.16     3.00  25.25   \n",
      "9993  ...  19.39         0.07     2.00 258.58   \n",
      "\n",
      "                                           Product Name      Segment  \\\n",
      "0                     Bush Somerset Collection Bookcase     Consumer   \n",
      "1     Hon Deluxe Fabric Upholstered Stacking Chairs,...     Consumer   \n",
      "2     Self-Adhesive Address Labels for Typewriters b...    Corporate   \n",
      "3     Eldon Expressions Wood and Plastic Desk Access...     Consumer   \n",
      "4                                            Newell 322     Consumer   \n",
      "...                                                 ...          ...   \n",
      "9989  Avery Durable Slant Ring Binders With Label Ho...  Home Office   \n",
      "9990                  Ibico Recycled Linen-Style Covers  Home Office   \n",
      "9991                                          Avery 476     Consumer   \n",
      "9992                             Ultra Door Pull Handle     Consumer   \n",
      "9993                              Aastra 57i VoIP phone     Consumer   \n",
      "\n",
      "      Sub-Category  month Total Sales Discount Amount  \n",
      "0        Bookcases      9      261.96            0.00  \n",
      "1           Chairs      9      731.94            0.00  \n",
      "2           Labels      6       14.62            0.00  \n",
      "3      Furnishings      9       48.86            0.00  \n",
      "4              Art      9        7.28            0.00  \n",
      "...            ...    ...         ...             ...  \n",
      "9989       Binders      7       16.72            3.34  \n",
      "9990       Binders      7      546.84          109.37  \n",
      "9991        Labels      3       20.65            4.13  \n",
      "9992   Furnishings      1       31.56            6.31  \n",
      "9993        Phones      2      323.22           64.64  \n",
      "\n",
      "[9994 rows x 24 columns]\n"
     ]
    }
   ],
   "source": [
    "abt1 = pd.concat([abt_discount_zero, abt_discount_non_zero], ignore_index=True)\n",
    "\n",
    "# Output\n",
    "print(\"Combined DataFrame:\")\n",
    "print(abt1)"
   ]
  },
  {
   "cell_type": "code",
   "execution_count": 27,
   "id": "598d794d-ce0b-4821-8b87-c7ff9717768f",
   "metadata": {},
   "outputs": [],
   "source": [
    "outfile_name3 = \"../Data/Data/cleaned_data2_csv.csv\"\n",
    "abt1.to_csv(outfile_name3)"
   ]
  },
  {
   "cell_type": "code",
   "execution_count": null,
   "id": "c75e8db5-79e0-4df4-bdca-983e55421d99",
   "metadata": {},
   "outputs": [],
   "source": []
  }
 ],
 "metadata": {
  "kernelspec": {
   "display_name": "Python [conda env:base] *",
   "language": "python",
   "name": "conda-base-py"
  },
  "language_info": {
   "codemirror_mode": {
    "name": "ipython",
    "version": 3
   },
   "file_extension": ".py",
   "mimetype": "text/x-python",
   "name": "python",
   "nbconvert_exporter": "python",
   "pygments_lexer": "ipython3",
   "version": "3.12.7"
  }
 },
 "nbformat": 4,
 "nbformat_minor": 5
}
